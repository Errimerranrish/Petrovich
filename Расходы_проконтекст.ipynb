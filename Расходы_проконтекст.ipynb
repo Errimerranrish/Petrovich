{
  "nbformat": 4,
  "nbformat_minor": 0,
  "metadata": {
    "colab": {
      "provenance": []
    },
    "kernelspec": {
      "name": "python3",
      "display_name": "Python 3"
    },
    "language_info": {
      "name": "python"
    }
  },
  "cells": [
    {
      "cell_type": "code",
      "source": [
        "import requests\n",
        "from pydantic import BaseModel, ValidationError, field_validator, TypeAdapter, Field\n",
        "import json\n",
        "from typing import Literal\n",
        "from datetime import datetime\n",
        "import os\n",
        "\n",
        "login = os.getenv(\"login\")\n",
        "password = os.getenv(\"password\")\n",
        "client_id = os.getenv(\"client_id\")\n",
        "accounts = os.getenv(\"accounts\")\n",
        "\n",
        "url_data = f\"https://auto.procontext.ru/api/yad/stat/petrovichstat?clientId={client_id}\"\n",
        "login_url = \"https://auto.procontext.ru/api/login\"\n",
        "response_login = requests.post(login_url,data={\"login\": login, \"password\": password })\n",
        "\n",
        "api_token = response_login.json()[\"data\"][\"api_token\"]\n",
        "\n",
        "body = {\n",
        "    \"accounts\":[accounts],\n",
        "    \"date\":[\"2024-01-01\",\"2024-02-02\"]\n",
        "}\n",
        "body\n",
        "headers = {'Authorization': f'Bearer {api_token}'}\n",
        "response = requests.post(url_data,json=body,headers=headers)\n",
        "\n",
        "\n",
        "# Модель проверки данных\n",
        "class UniqueProcontext(BaseModel):\n",
        "  cid: int\n",
        "  gid: int\n",
        "  bid: int\n",
        "  block_type: Literal['SEARCH', 'AD_NETWORK'] = Field(alias='type')\n",
        "  date: datetime\n",
        "  device: Literal['mobile', 'desktop', 'tablet']\n",
        "  val: int\n",
        "  clicks: int\n",
        "  sum: float\n",
        "  trans: int\n",
        "  shows: int\n",
        "  cname: str\n",
        "  gname: str\n",
        "\n",
        "  @field_validator('cid')\n",
        "  def valid_cid(cls, value):\n",
        "    str_value = str(value)\n",
        "    if (len(str_value)==8):\n",
        "      return value\n",
        "    raise ValueError(f\"Parametr 'cid' should have lenth of 8, {len(str_value)}\")\n",
        "\n",
        "  @field_validator('gid')\n",
        "  def valid_gid(cls, value):\n",
        "    str_value = str(value)\n",
        "    if (len(str_value)==10) or (value==0):\n",
        "      return value\n",
        "    raise ValueError(f\"Parametr 'gid' should have lenth of 10, {len(str_value)}\")\n",
        "\n",
        "  @field_validator('bid')\n",
        "  def valid_bid(cls, value):\n",
        "    str_value = str(value)\n",
        "    if (len(str_value)==11) or (value==0):\n",
        "      return value\n",
        "    raise ValueError(f\"Parametr 'bid' should have lenth of 11, {len(str_value)}\")\n",
        "\n",
        "class TotalResponce(BaseModel):\n",
        "  data: list[UniqueProcontext]\n",
        "\n",
        "def ValidateResponce(responce_data):\n",
        "  exeptions = 'No exceptoins'\n",
        "  try:\n",
        "    TotalResponce.parse_obj(responce_data)\n",
        "  except ValidationError as e:\n",
        "    exeptions = json.loads(e.json())\n",
        "  return exeptions\n",
        "\n",
        "\n",
        "errors = ValidateResponce({'data':response.json()})\n",
        "errors"
      ],
      "metadata": {
        "id": "1FpM5WPdejHe",
        "colab": {
          "base_uri": "https://localhost:8080/",
          "height": 160
        },
        "outputId": "48d3c35d-fea0-4c0e-d5c3-4b9fc376043f"
      },
      "execution_count": 3,
      "outputs": [
        {
          "output_type": "execute_result",
          "data": {
            "text/plain": [
              "'No exceptoins'"
            ],
            "application/vnd.google.colaboratory.intrinsic+json": {
              "type": "string"
            }
          },
          "metadata": {},
          "execution_count": 3
        }
      ]
    },
    {
      "cell_type": "code",
      "source": [],
      "metadata": {
        "id": "LMp_vsULA-4u"
      },
      "execution_count": null,
      "outputs": []
    },
    {
      "cell_type": "code",
      "source": [],
      "metadata": {
        "id": "onwkiP7GA-yd"
      },
      "execution_count": null,
      "outputs": []
    },
    {
      "cell_type": "code",
      "source": [],
      "metadata": {
        "id": "nMxI8f84A-vh"
      },
      "execution_count": null,
      "outputs": []
    }
  ]
}
